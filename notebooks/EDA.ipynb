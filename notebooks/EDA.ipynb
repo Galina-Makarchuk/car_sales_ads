{
 "cells": [
  {
   "cell_type": "markdown",
   "metadata": {},
   "source": [
    "# Exploratory analysis of Car Sales"
   ]
  },
  {
   "cell_type": "markdown",
   "metadata": {},
   "source": [
    "### Table of contents:\n",
    "[Introduction](#intro)\\\n",
    "\\\n",
    "[1. Data overview](#overview)\n",
    "\n",
    "[2. Duplicated values](#duplicated)\n",
    "> [2.1. Obvious duplicates](#obvious)<br>\n",
    "> [2.2. Implicit duplicates](#implicit)\n",
    "\n",
    "[3. Missing values](#missing)\n",
    "> [3.1. Column 'model_year'](#model_year)<br>\n",
    "> [3.2. Column 'cylinders'](#cylinders)<br>\n",
    "> [3.3. Column 'odometer'](#odometer)<br>\n",
    "> [3.4. Column 'paint_color'](#paint_color)<br>\n",
    "> [3.5. Column 'is_4wd'](#4wd)\n",
    "\n",
    "[4. Outliers](#outliers)"
   ]
  },
  {
   "cell_type": "markdown",
   "metadata": {},
   "source": [
    "## Introduction <a id='intro'></a>"
   ]
  },
  {
   "cell_type": "markdown",
   "metadata": {},
   "source": [
    "The goal of this analysis is to clean the data and prepare it for building a web app."
   ]
  },
  {
   "cell_type": "markdown",
   "metadata": {},
   "source": [
    "## 1. Data overview <a id='overview'></a>"
   ]
  },
  {
   "cell_type": "code",
   "execution_count": 29,
   "metadata": {},
   "outputs": [],
   "source": [
    "import pandas as pd"
   ]
  },
  {
   "cell_type": "code",
   "execution_count": 30,
   "metadata": {},
   "outputs": [],
   "source": [
    "data=pd.read_csv('../vehicles_us.csv')"
   ]
  },
  {
   "cell_type": "code",
   "execution_count": 31,
   "metadata": {},
   "outputs": [
    {
     "data": {
      "text/html": [
       "<div>\n",
       "<style scoped>\n",
       "    .dataframe tbody tr th:only-of-type {\n",
       "        vertical-align: middle;\n",
       "    }\n",
       "\n",
       "    .dataframe tbody tr th {\n",
       "        vertical-align: top;\n",
       "    }\n",
       "\n",
       "    .dataframe thead th {\n",
       "        text-align: right;\n",
       "    }\n",
       "</style>\n",
       "<table border=\"1\" class=\"dataframe\">\n",
       "  <thead>\n",
       "    <tr style=\"text-align: right;\">\n",
       "      <th></th>\n",
       "      <th>price</th>\n",
       "      <th>model_year</th>\n",
       "      <th>model</th>\n",
       "      <th>condition</th>\n",
       "      <th>cylinders</th>\n",
       "      <th>fuel</th>\n",
       "      <th>odometer</th>\n",
       "      <th>transmission</th>\n",
       "      <th>type</th>\n",
       "      <th>paint_color</th>\n",
       "      <th>is_4wd</th>\n",
       "      <th>date_posted</th>\n",
       "      <th>days_listed</th>\n",
       "    </tr>\n",
       "  </thead>\n",
       "  <tbody>\n",
       "    <tr>\n",
       "      <th>0</th>\n",
       "      <td>9400</td>\n",
       "      <td>2011.0</td>\n",
       "      <td>bmw x5</td>\n",
       "      <td>good</td>\n",
       "      <td>6.0</td>\n",
       "      <td>gas</td>\n",
       "      <td>145000.0</td>\n",
       "      <td>automatic</td>\n",
       "      <td>SUV</td>\n",
       "      <td>NaN</td>\n",
       "      <td>1.0</td>\n",
       "      <td>2018-06-23</td>\n",
       "      <td>19</td>\n",
       "    </tr>\n",
       "    <tr>\n",
       "      <th>1</th>\n",
       "      <td>25500</td>\n",
       "      <td>NaN</td>\n",
       "      <td>ford f-150</td>\n",
       "      <td>good</td>\n",
       "      <td>6.0</td>\n",
       "      <td>gas</td>\n",
       "      <td>88705.0</td>\n",
       "      <td>automatic</td>\n",
       "      <td>pickup</td>\n",
       "      <td>white</td>\n",
       "      <td>1.0</td>\n",
       "      <td>2018-10-19</td>\n",
       "      <td>50</td>\n",
       "    </tr>\n",
       "    <tr>\n",
       "      <th>2</th>\n",
       "      <td>5500</td>\n",
       "      <td>2013.0</td>\n",
       "      <td>hyundai sonata</td>\n",
       "      <td>like new</td>\n",
       "      <td>4.0</td>\n",
       "      <td>gas</td>\n",
       "      <td>110000.0</td>\n",
       "      <td>automatic</td>\n",
       "      <td>sedan</td>\n",
       "      <td>red</td>\n",
       "      <td>NaN</td>\n",
       "      <td>2019-02-07</td>\n",
       "      <td>79</td>\n",
       "    </tr>\n",
       "    <tr>\n",
       "      <th>3</th>\n",
       "      <td>1500</td>\n",
       "      <td>2003.0</td>\n",
       "      <td>ford f-150</td>\n",
       "      <td>fair</td>\n",
       "      <td>8.0</td>\n",
       "      <td>gas</td>\n",
       "      <td>NaN</td>\n",
       "      <td>automatic</td>\n",
       "      <td>pickup</td>\n",
       "      <td>NaN</td>\n",
       "      <td>NaN</td>\n",
       "      <td>2019-03-22</td>\n",
       "      <td>9</td>\n",
       "    </tr>\n",
       "    <tr>\n",
       "      <th>4</th>\n",
       "      <td>14900</td>\n",
       "      <td>2017.0</td>\n",
       "      <td>chrysler 200</td>\n",
       "      <td>excellent</td>\n",
       "      <td>4.0</td>\n",
       "      <td>gas</td>\n",
       "      <td>80903.0</td>\n",
       "      <td>automatic</td>\n",
       "      <td>sedan</td>\n",
       "      <td>black</td>\n",
       "      <td>NaN</td>\n",
       "      <td>2019-04-02</td>\n",
       "      <td>28</td>\n",
       "    </tr>\n",
       "    <tr>\n",
       "      <th>5</th>\n",
       "      <td>14990</td>\n",
       "      <td>2014.0</td>\n",
       "      <td>chrysler 300</td>\n",
       "      <td>excellent</td>\n",
       "      <td>6.0</td>\n",
       "      <td>gas</td>\n",
       "      <td>57954.0</td>\n",
       "      <td>automatic</td>\n",
       "      <td>sedan</td>\n",
       "      <td>black</td>\n",
       "      <td>1.0</td>\n",
       "      <td>2018-06-20</td>\n",
       "      <td>15</td>\n",
       "    </tr>\n",
       "    <tr>\n",
       "      <th>6</th>\n",
       "      <td>12990</td>\n",
       "      <td>2015.0</td>\n",
       "      <td>toyota camry</td>\n",
       "      <td>excellent</td>\n",
       "      <td>4.0</td>\n",
       "      <td>gas</td>\n",
       "      <td>79212.0</td>\n",
       "      <td>automatic</td>\n",
       "      <td>sedan</td>\n",
       "      <td>white</td>\n",
       "      <td>NaN</td>\n",
       "      <td>2018-12-27</td>\n",
       "      <td>73</td>\n",
       "    </tr>\n",
       "    <tr>\n",
       "      <th>7</th>\n",
       "      <td>15990</td>\n",
       "      <td>2013.0</td>\n",
       "      <td>honda pilot</td>\n",
       "      <td>excellent</td>\n",
       "      <td>6.0</td>\n",
       "      <td>gas</td>\n",
       "      <td>109473.0</td>\n",
       "      <td>automatic</td>\n",
       "      <td>SUV</td>\n",
       "      <td>black</td>\n",
       "      <td>1.0</td>\n",
       "      <td>2019-01-07</td>\n",
       "      <td>68</td>\n",
       "    </tr>\n",
       "    <tr>\n",
       "      <th>8</th>\n",
       "      <td>11500</td>\n",
       "      <td>2012.0</td>\n",
       "      <td>kia sorento</td>\n",
       "      <td>excellent</td>\n",
       "      <td>4.0</td>\n",
       "      <td>gas</td>\n",
       "      <td>104174.0</td>\n",
       "      <td>automatic</td>\n",
       "      <td>SUV</td>\n",
       "      <td>NaN</td>\n",
       "      <td>1.0</td>\n",
       "      <td>2018-07-16</td>\n",
       "      <td>19</td>\n",
       "    </tr>\n",
       "    <tr>\n",
       "      <th>9</th>\n",
       "      <td>9200</td>\n",
       "      <td>2008.0</td>\n",
       "      <td>honda pilot</td>\n",
       "      <td>excellent</td>\n",
       "      <td>NaN</td>\n",
       "      <td>gas</td>\n",
       "      <td>147191.0</td>\n",
       "      <td>automatic</td>\n",
       "      <td>SUV</td>\n",
       "      <td>blue</td>\n",
       "      <td>1.0</td>\n",
       "      <td>2019-02-15</td>\n",
       "      <td>17</td>\n",
       "    </tr>\n",
       "  </tbody>\n",
       "</table>\n",
       "</div>"
      ],
      "text/plain": [
       "   price  model_year           model  condition  cylinders fuel  odometer  \\\n",
       "0   9400      2011.0          bmw x5       good        6.0  gas  145000.0   \n",
       "1  25500         NaN      ford f-150       good        6.0  gas   88705.0   \n",
       "2   5500      2013.0  hyundai sonata   like new        4.0  gas  110000.0   \n",
       "3   1500      2003.0      ford f-150       fair        8.0  gas       NaN   \n",
       "4  14900      2017.0    chrysler 200  excellent        4.0  gas   80903.0   \n",
       "5  14990      2014.0    chrysler 300  excellent        6.0  gas   57954.0   \n",
       "6  12990      2015.0    toyota camry  excellent        4.0  gas   79212.0   \n",
       "7  15990      2013.0     honda pilot  excellent        6.0  gas  109473.0   \n",
       "8  11500      2012.0     kia sorento  excellent        4.0  gas  104174.0   \n",
       "9   9200      2008.0     honda pilot  excellent        NaN  gas  147191.0   \n",
       "\n",
       "  transmission    type paint_color  is_4wd date_posted  days_listed  \n",
       "0    automatic     SUV         NaN     1.0  2018-06-23           19  \n",
       "1    automatic  pickup       white     1.0  2018-10-19           50  \n",
       "2    automatic   sedan         red     NaN  2019-02-07           79  \n",
       "3    automatic  pickup         NaN     NaN  2019-03-22            9  \n",
       "4    automatic   sedan       black     NaN  2019-04-02           28  \n",
       "5    automatic   sedan       black     1.0  2018-06-20           15  \n",
       "6    automatic   sedan       white     NaN  2018-12-27           73  \n",
       "7    automatic     SUV       black     1.0  2019-01-07           68  \n",
       "8    automatic     SUV         NaN     1.0  2018-07-16           19  \n",
       "9    automatic     SUV        blue     1.0  2019-02-15           17  "
      ]
     },
     "execution_count": 31,
     "metadata": {},
     "output_type": "execute_result"
    }
   ],
   "source": [
    "data.head(10)"
   ]
  },
  {
   "cell_type": "code",
   "execution_count": 32,
   "metadata": {},
   "outputs": [
    {
     "name": "stdout",
     "output_type": "stream",
     "text": [
      "<class 'pandas.core.frame.DataFrame'>\n",
      "RangeIndex: 51525 entries, 0 to 51524\n",
      "Data columns (total 13 columns):\n",
      " #   Column        Non-Null Count  Dtype  \n",
      "---  ------        --------------  -----  \n",
      " 0   price         51525 non-null  int64  \n",
      " 1   model_year    47906 non-null  float64\n",
      " 2   model         51525 non-null  object \n",
      " 3   condition     51525 non-null  object \n",
      " 4   cylinders     46265 non-null  float64\n",
      " 5   fuel          51525 non-null  object \n",
      " 6   odometer      43633 non-null  float64\n",
      " 7   transmission  51525 non-null  object \n",
      " 8   type          51525 non-null  object \n",
      " 9   paint_color   42258 non-null  object \n",
      " 10  is_4wd        25572 non-null  float64\n",
      " 11  date_posted   51525 non-null  object \n",
      " 12  days_listed   51525 non-null  int64  \n",
      "dtypes: float64(4), int64(2), object(7)\n",
      "memory usage: 5.1+ MB\n"
     ]
    }
   ],
   "source": [
    "data.info()"
   ]
  },
  {
   "cell_type": "markdown",
   "metadata": {},
   "source": [
    "#### __Conclusions:__ \n",
    "- There are no issues with style in the column names.\n",
    "- There are missing values. To get reliable results, it's necessary to preprocess the data."
   ]
  },
  {
   "cell_type": "markdown",
   "metadata": {},
   "source": [
    "## 2. Duplicated values <a id='duplicated'></a>"
   ]
  },
  {
   "cell_type": "markdown",
   "metadata": {},
   "source": [
    "Creating a copy of the dataset to perform the data preprocessing."
   ]
  },
  {
   "cell_type": "code",
   "execution_count": 33,
   "metadata": {},
   "outputs": [],
   "source": [
    "data_clean = data.copy()"
   ]
  },
  {
   "cell_type": "markdown",
   "metadata": {},
   "source": [
    "### 2.1. Obvious duplicates <a id='obvious'></a>"
   ]
  },
  {
   "cell_type": "code",
   "execution_count": 34,
   "metadata": {},
   "outputs": [
    {
     "data": {
      "text/plain": [
       "0"
      ]
     },
     "execution_count": 34,
     "metadata": {},
     "output_type": "execute_result"
    }
   ],
   "source": [
    "data_clean.duplicated().sum()"
   ]
  },
  {
   "cell_type": "markdown",
   "metadata": {},
   "source": [
    "__Conclusion:__ there are no obvious duplicated rows in the dataset."
   ]
  },
  {
   "cell_type": "markdown",
   "metadata": {},
   "source": [
    "### 2.2. Implicit duplicates <a id='implicit'></a>"
   ]
  },
  {
   "cell_type": "markdown",
   "metadata": {},
   "source": [
    "Checking implicit duplicates in the column 'model' by printing a list of unique model names, sorted in the alphabetical order."
   ]
  },
  {
   "cell_type": "code",
   "execution_count": 35,
   "metadata": {},
   "outputs": [
    {
     "data": {
      "text/plain": [
       "array(['acura tl', 'bmw x5', 'buick enclave', 'cadillac escalade',\n",
       "       'chevrolet camaro', 'chevrolet camaro lt coupe 2d',\n",
       "       'chevrolet colorado', 'chevrolet corvette', 'chevrolet cruze',\n",
       "       'chevrolet equinox', 'chevrolet impala', 'chevrolet malibu',\n",
       "       'chevrolet silverado', 'chevrolet silverado 1500',\n",
       "       'chevrolet silverado 1500 crew', 'chevrolet silverado 2500hd',\n",
       "       'chevrolet silverado 3500hd', 'chevrolet suburban',\n",
       "       'chevrolet tahoe', 'chevrolet trailblazer', 'chevrolet traverse',\n",
       "       'chrysler 200', 'chrysler 300', 'chrysler town & country',\n",
       "       'dodge charger', 'dodge dakota', 'dodge grand caravan',\n",
       "       'ford econoline', 'ford edge', 'ford escape', 'ford expedition',\n",
       "       'ford explorer', 'ford f-150', 'ford f-250', 'ford f-250 sd',\n",
       "       'ford f-250 super duty', 'ford f-350 sd', 'ford f150',\n",
       "       'ford f150 supercrew cab xlt', 'ford f250', 'ford f250 super duty',\n",
       "       'ford f350', 'ford f350 super duty', 'ford focus', 'ford focus se',\n",
       "       'ford fusion', 'ford fusion se', 'ford mustang',\n",
       "       'ford mustang gt coupe 2d', 'ford ranger', 'ford taurus',\n",
       "       'gmc acadia', 'gmc sierra', 'gmc sierra 1500', 'gmc sierra 2500hd',\n",
       "       'gmc yukon', 'honda accord', 'honda civic', 'honda civic lx',\n",
       "       'honda cr-v', 'honda odyssey', 'honda pilot', 'hyundai elantra',\n",
       "       'hyundai santa fe', 'hyundai sonata', 'jeep cherokee',\n",
       "       'jeep grand cherokee', 'jeep grand cherokee laredo',\n",
       "       'jeep liberty', 'jeep wrangler', 'jeep wrangler unlimited',\n",
       "       'kia sorento', 'kia soul', 'mercedes-benz benze sprinter 2500',\n",
       "       'nissan altima', 'nissan frontier', 'nissan frontier crew cab sv',\n",
       "       'nissan maxima', 'nissan murano', 'nissan rogue', 'nissan sentra',\n",
       "       'nissan versa', 'ram 1500', 'ram 2500', 'ram 3500',\n",
       "       'subaru forester', 'subaru impreza', 'subaru outback',\n",
       "       'toyota 4runner', 'toyota camry', 'toyota camry le',\n",
       "       'toyota corolla', 'toyota highlander', 'toyota prius',\n",
       "       'toyota rav4', 'toyota sienna', 'toyota tacoma', 'toyota tundra',\n",
       "       'volkswagen jetta', 'volkswagen passat'], dtype=object)"
      ]
     },
     "execution_count": 35,
     "metadata": {},
     "output_type": "execute_result"
    }
   ],
   "source": [
    "data_clean['model'].sort_values().unique()"
   ]
  },
  {
   "cell_type": "markdown",
   "metadata": {},
   "source": [
    "The following models have alternative names of the same model:\n",
    "- ford f-150, ford f150\n",
    "- ford f-250, ford f250\n",
    "- ford f-250 sd, ford f-250 super duty, ford f250 super duty\n",
    "- ford f-350 sd, ford f350 super duty"
   ]
  },
  {
   "cell_type": "markdown",
   "metadata": {},
   "source": [
    "The correct way of writing the model name is \"ford f-model_number\" according to the official [Ford website](https://www.ford.com/trucks/f150/models/?intcmp=vhp-seconNav-modselect)."
   ]
  },
  {
   "cell_type": "markdown",
   "metadata": {},
   "source": [
    "The method replace() is used to get rid of these implicit duplicates and correct the names in the column 'model'."
   ]
  },
  {
   "cell_type": "code",
   "execution_count": 36,
   "metadata": {},
   "outputs": [],
   "source": [
    "data_clean['model']=data_clean['model'].replace({'ford f150':'ford f-150','ford f250':'ford f-250','ford f350 super duty':'ford f-350 sd'})"
   ]
  },
  {
   "cell_type": "code",
   "execution_count": 37,
   "metadata": {},
   "outputs": [],
   "source": [
    "data_clean['model']=data_clean['model'].replace(['ford f250 super duty', 'ford f-250 super duty'], 'ford f-250 sd')"
   ]
  },
  {
   "cell_type": "markdown",
   "metadata": {},
   "source": [
    "Checking if there are no implicit duplicates anymore in the column 'model_clean'."
   ]
  },
  {
   "cell_type": "code",
   "execution_count": 38,
   "metadata": {},
   "outputs": [
    {
     "data": {
      "text/plain": [
       "array(['acura tl', 'bmw x5', 'buick enclave', 'cadillac escalade',\n",
       "       'chevrolet camaro', 'chevrolet camaro lt coupe 2d',\n",
       "       'chevrolet colorado', 'chevrolet corvette', 'chevrolet cruze',\n",
       "       'chevrolet equinox', 'chevrolet impala', 'chevrolet malibu',\n",
       "       'chevrolet silverado', 'chevrolet silverado 1500',\n",
       "       'chevrolet silverado 1500 crew', 'chevrolet silverado 2500hd',\n",
       "       'chevrolet silverado 3500hd', 'chevrolet suburban',\n",
       "       'chevrolet tahoe', 'chevrolet trailblazer', 'chevrolet traverse',\n",
       "       'chrysler 200', 'chrysler 300', 'chrysler town & country',\n",
       "       'dodge charger', 'dodge dakota', 'dodge grand caravan',\n",
       "       'ford econoline', 'ford edge', 'ford escape', 'ford expedition',\n",
       "       'ford explorer', 'ford f-150', 'ford f-250', 'ford f-250 sd',\n",
       "       'ford f-350 sd', 'ford f150 supercrew cab xlt', 'ford f350',\n",
       "       'ford focus', 'ford focus se', 'ford fusion', 'ford fusion se',\n",
       "       'ford mustang', 'ford mustang gt coupe 2d', 'ford ranger',\n",
       "       'ford taurus', 'gmc acadia', 'gmc sierra', 'gmc sierra 1500',\n",
       "       'gmc sierra 2500hd', 'gmc yukon', 'honda accord', 'honda civic',\n",
       "       'honda civic lx', 'honda cr-v', 'honda odyssey', 'honda pilot',\n",
       "       'hyundai elantra', 'hyundai santa fe', 'hyundai sonata',\n",
       "       'jeep cherokee', 'jeep grand cherokee',\n",
       "       'jeep grand cherokee laredo', 'jeep liberty', 'jeep wrangler',\n",
       "       'jeep wrangler unlimited', 'kia sorento', 'kia soul',\n",
       "       'mercedes-benz benze sprinter 2500', 'nissan altima',\n",
       "       'nissan frontier', 'nissan frontier crew cab sv', 'nissan maxima',\n",
       "       'nissan murano', 'nissan rogue', 'nissan sentra', 'nissan versa',\n",
       "       'ram 1500', 'ram 2500', 'ram 3500', 'subaru forester',\n",
       "       'subaru impreza', 'subaru outback', 'toyota 4runner',\n",
       "       'toyota camry', 'toyota camry le', 'toyota corolla',\n",
       "       'toyota highlander', 'toyota prius', 'toyota rav4',\n",
       "       'toyota sienna', 'toyota tacoma', 'toyota tundra',\n",
       "       'volkswagen jetta', 'volkswagen passat'], dtype=object)"
      ]
     },
     "execution_count": 38,
     "metadata": {},
     "output_type": "execute_result"
    }
   ],
   "source": [
    "data_clean['model'].sort_values().unique()"
   ]
  },
  {
   "cell_type": "markdown",
   "metadata": {},
   "source": [
    "#### __Conclusions:__ \n",
    "* There are no obvious duplicated rows in the dataset.\n",
    "* The implicit duplicated data is cleaned and ready for further preprocessing.\n",
    "* The absence of duplicates will make the results more precise."
   ]
  },
  {
   "cell_type": "markdown",
   "metadata": {},
   "source": [
    "## 3. Missing values <a id='missing'></a>"
   ]
  },
  {
   "cell_type": "code",
   "execution_count": 39,
   "metadata": {},
   "outputs": [
    {
     "data": {
      "text/plain": [
       "price               0\n",
       "model_year       3619\n",
       "model               0\n",
       "condition           0\n",
       "cylinders        5260\n",
       "fuel                0\n",
       "odometer         7892\n",
       "transmission        0\n",
       "type                0\n",
       "paint_color      9267\n",
       "is_4wd          25953\n",
       "date_posted         0\n",
       "days_listed         0\n",
       "dtype: int64"
      ]
     },
     "execution_count": 39,
     "metadata": {},
     "output_type": "execute_result"
    }
   ],
   "source": [
    "data_clean.isna().sum()"
   ]
  },
  {
   "cell_type": "markdown",
   "metadata": {},
   "source": [
    "The following columns have missing values:\n",
    "* model_year\n",
    "* cylinders\n",
    "* odometer\n",
    "* paint_color\n",
    "* is_4wd"
   ]
  },
  {
   "cell_type": "markdown",
   "metadata": {},
   "source": [
    "### 3.1. Column 'model_year' <a id='model_year'></a>"
   ]
  },
  {
   "cell_type": "markdown",
   "metadata": {},
   "source": [
    "The column ‘model_year’ has outliers. Mean value is affected by them and does not represent the typical value in this case. That is why median is the best estimator of the typical value for the missing data in this column.\\\n",
    "\\\n",
    "The ‘model_year’ values are grouped by ‘model’, and the median of each group is taken as an estimation for the missing values in it."
   ]
  },
  {
   "cell_type": "code",
   "execution_count": 40,
   "metadata": {},
   "outputs": [
    {
     "data": {
      "text/plain": [
       "0"
      ]
     },
     "execution_count": 40,
     "metadata": {},
     "output_type": "execute_result"
    }
   ],
   "source": [
    "data_clean['model_year']=data_clean['model_year'].fillna(data_clean.groupby('model')['model_year'].transform('median'))\n",
    "data_clean['model_year'].isna().sum()"
   ]
  },
  {
   "cell_type": "markdown",
   "metadata": {},
   "source": [
    "### 3.2. Column 'cylinders' <a id='cylinders'></a>"
   ]
  },
  {
   "cell_type": "markdown",
   "metadata": {},
   "source": [
    "Calculating median and mean values of the column 'cylinders' to decide how to replace its missing values."
   ]
  },
  {
   "cell_type": "markdown",
   "metadata": {},
   "source": [
    "The median value:"
   ]
  },
  {
   "cell_type": "code",
   "execution_count": 41,
   "metadata": {},
   "outputs": [
    {
     "data": {
      "text/plain": [
       "6.0"
      ]
     },
     "execution_count": 41,
     "metadata": {},
     "output_type": "execute_result"
    }
   ],
   "source": [
    "data_clean['cylinders'].sort_values()\n",
    "data_clean['cylinders'].median()"
   ]
  },
  {
   "cell_type": "markdown",
   "metadata": {},
   "source": [
    "The mean value:"
   ]
  },
  {
   "cell_type": "code",
   "execution_count": 42,
   "metadata": {},
   "outputs": [
    {
     "data": {
      "text/plain": [
       "6.125235058899817"
      ]
     },
     "execution_count": 42,
     "metadata": {},
     "output_type": "execute_result"
    }
   ],
   "source": [
    "data_clean['cylinders'].mean()"
   ]
  },
  {
   "cell_type": "markdown",
   "metadata": {},
   "source": [
    "The median and mean values are similar. So any of these values can be used to replace the missing values.\\\n",
    "\\\n",
    "The missing values in the column ‘cylinders’ are estimated by the median, grouped by ‘model’."
   ]
  },
  {
   "cell_type": "code",
   "execution_count": 43,
   "metadata": {},
   "outputs": [
    {
     "data": {
      "text/plain": [
       "0"
      ]
     },
     "execution_count": 43,
     "metadata": {},
     "output_type": "execute_result"
    }
   ],
   "source": [
    "data_clean['cylinders']=data_clean['cylinders'].fillna(data_clean.groupby('model')['cylinders'].transform('median'))\n",
    "data_clean['cylinders'].isna().sum()"
   ]
  },
  {
   "cell_type": "markdown",
   "metadata": {},
   "source": [
    "### 3.3. Column 'odometer' <a id='odometer'></a>"
   ]
  },
  {
   "cell_type": "markdown",
   "metadata": {},
   "source": [
    "Calculating median and mean values of the column 'odometer' to decide how to replace its missing values."
   ]
  },
  {
   "cell_type": "code",
   "execution_count": 44,
   "metadata": {},
   "outputs": [
    {
     "name": "stdout",
     "output_type": "stream",
     "text": [
      "The median is: 113000.0\n",
      "The mean is: 115553.4617376756\n"
     ]
    }
   ],
   "source": [
    "data_clean['odometer'].sort_values()\n",
    "odometer_median = data_clean['odometer'].median()\n",
    "print(f'The median is: {odometer_median}')\n",
    "\n",
    "odometer_median = data_clean['odometer'].mean()\n",
    "print(f'The mean is: {odometer_median}')"
   ]
  },
  {
   "cell_type": "markdown",
   "metadata": {},
   "source": [
    "The median and mean values vary. It can indicate the presence of outliers.\\\n",
    "In this case it is safer to use median for replacing the missing values."
   ]
  },
  {
   "cell_type": "code",
   "execution_count": 45,
   "metadata": {},
   "outputs": [
    {
     "data": {
      "text/plain": [
       "1"
      ]
     },
     "execution_count": 45,
     "metadata": {},
     "output_type": "execute_result"
    }
   ],
   "source": [
    "data_clean['odometer']=data_clean['odometer'].fillna(data_clean.groupby('model_year')['odometer'].transform('median'))\n",
    "data_clean['odometer'].isna().sum()"
   ]
  },
  {
   "cell_type": "code",
   "execution_count": 46,
   "metadata": {},
   "outputs": [
    {
     "data": {
      "text/html": [
       "<div>\n",
       "<style scoped>\n",
       "    .dataframe tbody tr th:only-of-type {\n",
       "        vertical-align: middle;\n",
       "    }\n",
       "\n",
       "    .dataframe tbody tr th {\n",
       "        vertical-align: top;\n",
       "    }\n",
       "\n",
       "    .dataframe thead th {\n",
       "        text-align: right;\n",
       "    }\n",
       "</style>\n",
       "<table border=\"1\" class=\"dataframe\">\n",
       "  <thead>\n",
       "    <tr style=\"text-align: right;\">\n",
       "      <th></th>\n",
       "      <th>price</th>\n",
       "      <th>model_year</th>\n",
       "      <th>model</th>\n",
       "      <th>condition</th>\n",
       "      <th>cylinders</th>\n",
       "      <th>fuel</th>\n",
       "      <th>odometer</th>\n",
       "      <th>transmission</th>\n",
       "      <th>type</th>\n",
       "      <th>paint_color</th>\n",
       "      <th>is_4wd</th>\n",
       "      <th>date_posted</th>\n",
       "      <th>days_listed</th>\n",
       "    </tr>\n",
       "  </thead>\n",
       "  <tbody>\n",
       "    <tr>\n",
       "      <th>45694</th>\n",
       "      <td>18000</td>\n",
       "      <td>1929.0</td>\n",
       "      <td>ford f-150</td>\n",
       "      <td>good</td>\n",
       "      <td>8.0</td>\n",
       "      <td>gas</td>\n",
       "      <td>NaN</td>\n",
       "      <td>manual</td>\n",
       "      <td>other</td>\n",
       "      <td>silver</td>\n",
       "      <td>NaN</td>\n",
       "      <td>2018-11-18</td>\n",
       "      <td>59</td>\n",
       "    </tr>\n",
       "  </tbody>\n",
       "</table>\n",
       "</div>"
      ],
      "text/plain": [
       "       price  model_year       model condition  cylinders fuel  odometer  \\\n",
       "45694  18000      1929.0  ford f-150      good        8.0  gas       NaN   \n",
       "\n",
       "      transmission   type paint_color  is_4wd date_posted  days_listed  \n",
       "45694       manual  other      silver     NaN  2018-11-18           59  "
      ]
     },
     "execution_count": 46,
     "metadata": {},
     "output_type": "execute_result"
    }
   ],
   "source": [
    "data_clean[data_clean['odometer'].isna()]"
   ]
  },
  {
   "cell_type": "markdown",
   "metadata": {},
   "source": [
    "### 3.4. Column 'paint_color' <a id='paint_color'></a>"
   ]
  },
  {
   "cell_type": "markdown",
   "metadata": {},
   "source": [
    "The paint color is a categorical variable, which values cannot be calculated or estimated from the given data.\n",
    "* Missing values in this column are kept.\n",
    "* The rows with the missing values from this column are not removed because they can be important for the other columns in the analysis."
   ]
  },
  {
   "cell_type": "markdown",
   "metadata": {},
   "source": [
    "### 3.5. Column 'is_4wd' <a id='4wd'></a>"
   ]
  },
  {
   "cell_type": "markdown",
   "metadata": {},
   "source": [
    "The column 'is_4wd' can take only two values: 0 ( False) and 1 ( True)."
   ]
  },
  {
   "cell_type": "markdown",
   "metadata": {},
   "source": [
    "The number of values filled with 1:"
   ]
  },
  {
   "cell_type": "code",
   "execution_count": 48,
   "metadata": {},
   "outputs": [
    {
     "data": {
      "text/plain": [
       "25572"
      ]
     },
     "execution_count": 48,
     "metadata": {},
     "output_type": "execute_result"
    }
   ],
   "source": [
    "data_clean['is_4wd'].notna().sum()"
   ]
  },
  {
   "cell_type": "markdown",
   "metadata": {},
   "source": [
    "The number of missing values:"
   ]
  },
  {
   "cell_type": "code",
   "execution_count": 49,
   "metadata": {},
   "outputs": [
    {
     "data": {
      "text/plain": [
       "25953"
      ]
     },
     "execution_count": 49,
     "metadata": {},
     "output_type": "execute_result"
    }
   ],
   "source": [
    "data_clean['is_4wd'].isna().sum()"
   ]
  },
  {
   "cell_type": "markdown",
   "metadata": {},
   "source": [
    "The number of missing values is very close to the number of filled values.\\\n",
    "__Assumption:__ missing values are zeros, which for some reason were not filled out.\\\n",
    "The missing values in this column will be replaced with 0."
   ]
  },
  {
   "cell_type": "code",
   "execution_count": 50,
   "metadata": {},
   "outputs": [
    {
     "data": {
      "text/plain": [
       "0"
      ]
     },
     "execution_count": 50,
     "metadata": {},
     "output_type": "execute_result"
    }
   ],
   "source": [
    "data_clean['is_4wd']=data_clean['is_4wd'].fillna(0)\n",
    "data_clean['is_4wd'].isna().sum()"
   ]
  },
  {
   "cell_type": "markdown",
   "metadata": {},
   "source": [
    "#### __Conclusions:__\n",
    "* The missing values in the columns 'model_year', 'cylinders' and 'odometer' have been replaced with the median value.\n",
    "* The missing values in the column 'paint_color' could not be replaced, and were kept to preserve information for analysis.\n",
    "* The missing values in the column 'is_4wd' were replaced with 0."
   ]
  },
  {
   "cell_type": "markdown",
   "metadata": {},
   "source": [
    "## 4. Outliers <a id='outliers'></a>"
   ]
  },
  {
   "cell_type": "code",
   "execution_count": 18,
   "metadata": {},
   "outputs": [
    {
     "data": {
      "text/html": [
       "<div>\n",
       "<style scoped>\n",
       "    .dataframe tbody tr th:only-of-type {\n",
       "        vertical-align: middle;\n",
       "    }\n",
       "\n",
       "    .dataframe tbody tr th {\n",
       "        vertical-align: top;\n",
       "    }\n",
       "\n",
       "    .dataframe thead th {\n",
       "        text-align: right;\n",
       "    }\n",
       "</style>\n",
       "<table border=\"1\" class=\"dataframe\">\n",
       "  <thead>\n",
       "    <tr style=\"text-align: right;\">\n",
       "      <th></th>\n",
       "      <th>count</th>\n",
       "      <th>unique</th>\n",
       "      <th>top</th>\n",
       "      <th>freq</th>\n",
       "      <th>mean</th>\n",
       "      <th>std</th>\n",
       "      <th>min</th>\n",
       "      <th>25%</th>\n",
       "      <th>50%</th>\n",
       "      <th>75%</th>\n",
       "      <th>max</th>\n",
       "    </tr>\n",
       "  </thead>\n",
       "  <tbody>\n",
       "    <tr>\n",
       "      <th>price</th>\n",
       "      <td>51525.0</td>\n",
       "      <td>NaN</td>\n",
       "      <td>NaN</td>\n",
       "      <td>NaN</td>\n",
       "      <td>12132.46492</td>\n",
       "      <td>10040.803015</td>\n",
       "      <td>1.0</td>\n",
       "      <td>5000.0</td>\n",
       "      <td>9000.0</td>\n",
       "      <td>16839.0</td>\n",
       "      <td>375000.0</td>\n",
       "    </tr>\n",
       "    <tr>\n",
       "      <th>model_year</th>\n",
       "      <td>51525.0</td>\n",
       "      <td>NaN</td>\n",
       "      <td>NaN</td>\n",
       "      <td>NaN</td>\n",
       "      <td>2009.796672</td>\n",
       "      <td>6.099245</td>\n",
       "      <td>1908.0</td>\n",
       "      <td>2007.0</td>\n",
       "      <td>2011.0</td>\n",
       "      <td>2014.0</td>\n",
       "      <td>2019.0</td>\n",
       "    </tr>\n",
       "    <tr>\n",
       "      <th>model</th>\n",
       "      <td>51525</td>\n",
       "      <td>95</td>\n",
       "      <td>ford f-150</td>\n",
       "      <td>3326</td>\n",
       "      <td>NaN</td>\n",
       "      <td>NaN</td>\n",
       "      <td>NaN</td>\n",
       "      <td>NaN</td>\n",
       "      <td>NaN</td>\n",
       "      <td>NaN</td>\n",
       "      <td>NaN</td>\n",
       "    </tr>\n",
       "    <tr>\n",
       "      <th>condition</th>\n",
       "      <td>51525</td>\n",
       "      <td>6</td>\n",
       "      <td>excellent</td>\n",
       "      <td>24773</td>\n",
       "      <td>NaN</td>\n",
       "      <td>NaN</td>\n",
       "      <td>NaN</td>\n",
       "      <td>NaN</td>\n",
       "      <td>NaN</td>\n",
       "      <td>NaN</td>\n",
       "      <td>NaN</td>\n",
       "    </tr>\n",
       "    <tr>\n",
       "      <th>cylinders</th>\n",
       "      <td>51525.0</td>\n",
       "      <td>NaN</td>\n",
       "      <td>NaN</td>\n",
       "      <td>NaN</td>\n",
       "      <td>6.121067</td>\n",
       "      <td>1.657457</td>\n",
       "      <td>3.0</td>\n",
       "      <td>4.0</td>\n",
       "      <td>6.0</td>\n",
       "      <td>8.0</td>\n",
       "      <td>12.0</td>\n",
       "    </tr>\n",
       "    <tr>\n",
       "      <th>fuel</th>\n",
       "      <td>51525</td>\n",
       "      <td>5</td>\n",
       "      <td>gas</td>\n",
       "      <td>47288</td>\n",
       "      <td>NaN</td>\n",
       "      <td>NaN</td>\n",
       "      <td>NaN</td>\n",
       "      <td>NaN</td>\n",
       "      <td>NaN</td>\n",
       "      <td>NaN</td>\n",
       "      <td>NaN</td>\n",
       "    </tr>\n",
       "    <tr>\n",
       "      <th>odometer</th>\n",
       "      <td>51524.0</td>\n",
       "      <td>NaN</td>\n",
       "      <td>NaN</td>\n",
       "      <td>NaN</td>\n",
       "      <td>115204.967656</td>\n",
       "      <td>62084.290072</td>\n",
       "      <td>0.0</td>\n",
       "      <td>73500.0</td>\n",
       "      <td>114054.0</td>\n",
       "      <td>152773.0</td>\n",
       "      <td>990000.0</td>\n",
       "    </tr>\n",
       "    <tr>\n",
       "      <th>transmission</th>\n",
       "      <td>51525</td>\n",
       "      <td>3</td>\n",
       "      <td>automatic</td>\n",
       "      <td>46902</td>\n",
       "      <td>NaN</td>\n",
       "      <td>NaN</td>\n",
       "      <td>NaN</td>\n",
       "      <td>NaN</td>\n",
       "      <td>NaN</td>\n",
       "      <td>NaN</td>\n",
       "      <td>NaN</td>\n",
       "    </tr>\n",
       "    <tr>\n",
       "      <th>type</th>\n",
       "      <td>51525</td>\n",
       "      <td>13</td>\n",
       "      <td>SUV</td>\n",
       "      <td>12405</td>\n",
       "      <td>NaN</td>\n",
       "      <td>NaN</td>\n",
       "      <td>NaN</td>\n",
       "      <td>NaN</td>\n",
       "      <td>NaN</td>\n",
       "      <td>NaN</td>\n",
       "      <td>NaN</td>\n",
       "    </tr>\n",
       "    <tr>\n",
       "      <th>paint_color</th>\n",
       "      <td>42258</td>\n",
       "      <td>12</td>\n",
       "      <td>white</td>\n",
       "      <td>10029</td>\n",
       "      <td>NaN</td>\n",
       "      <td>NaN</td>\n",
       "      <td>NaN</td>\n",
       "      <td>NaN</td>\n",
       "      <td>NaN</td>\n",
       "      <td>NaN</td>\n",
       "      <td>NaN</td>\n",
       "    </tr>\n",
       "    <tr>\n",
       "      <th>is_4wd</th>\n",
       "      <td>25572.0</td>\n",
       "      <td>NaN</td>\n",
       "      <td>NaN</td>\n",
       "      <td>NaN</td>\n",
       "      <td>1.0</td>\n",
       "      <td>0.0</td>\n",
       "      <td>1.0</td>\n",
       "      <td>1.0</td>\n",
       "      <td>1.0</td>\n",
       "      <td>1.0</td>\n",
       "      <td>1.0</td>\n",
       "    </tr>\n",
       "    <tr>\n",
       "      <th>date_posted</th>\n",
       "      <td>51525</td>\n",
       "      <td>354</td>\n",
       "      <td>2019-03-17</td>\n",
       "      <td>186</td>\n",
       "      <td>NaN</td>\n",
       "      <td>NaN</td>\n",
       "      <td>NaN</td>\n",
       "      <td>NaN</td>\n",
       "      <td>NaN</td>\n",
       "      <td>NaN</td>\n",
       "      <td>NaN</td>\n",
       "    </tr>\n",
       "    <tr>\n",
       "      <th>days_listed</th>\n",
       "      <td>51525.0</td>\n",
       "      <td>NaN</td>\n",
       "      <td>NaN</td>\n",
       "      <td>NaN</td>\n",
       "      <td>39.55476</td>\n",
       "      <td>28.20427</td>\n",
       "      <td>0.0</td>\n",
       "      <td>19.0</td>\n",
       "      <td>33.0</td>\n",
       "      <td>53.0</td>\n",
       "      <td>271.0</td>\n",
       "    </tr>\n",
       "  </tbody>\n",
       "</table>\n",
       "</div>"
      ],
      "text/plain": [
       "                count unique         top   freq           mean           std  \\\n",
       "price         51525.0    NaN         NaN    NaN    12132.46492  10040.803015   \n",
       "model_year    51525.0    NaN         NaN    NaN    2009.796672      6.099245   \n",
       "model           51525     95  ford f-150   3326            NaN           NaN   \n",
       "condition       51525      6   excellent  24773            NaN           NaN   \n",
       "cylinders     51525.0    NaN         NaN    NaN       6.121067      1.657457   \n",
       "fuel            51525      5         gas  47288            NaN           NaN   \n",
       "odometer      51524.0    NaN         NaN    NaN  115204.967656  62084.290072   \n",
       "transmission    51525      3   automatic  46902            NaN           NaN   \n",
       "type            51525     13         SUV  12405            NaN           NaN   \n",
       "paint_color     42258     12       white  10029            NaN           NaN   \n",
       "is_4wd        25572.0    NaN         NaN    NaN            1.0           0.0   \n",
       "date_posted     51525    354  2019-03-17    186            NaN           NaN   \n",
       "days_listed   51525.0    NaN         NaN    NaN       39.55476      28.20427   \n",
       "\n",
       "                 min      25%       50%       75%       max  \n",
       "price            1.0   5000.0    9000.0   16839.0  375000.0  \n",
       "model_year    1908.0   2007.0    2011.0    2014.0    2019.0  \n",
       "model            NaN      NaN       NaN       NaN       NaN  \n",
       "condition        NaN      NaN       NaN       NaN       NaN  \n",
       "cylinders        3.0      4.0       6.0       8.0      12.0  \n",
       "fuel             NaN      NaN       NaN       NaN       NaN  \n",
       "odometer         0.0  73500.0  114054.0  152773.0  990000.0  \n",
       "transmission     NaN      NaN       NaN       NaN       NaN  \n",
       "type             NaN      NaN       NaN       NaN       NaN  \n",
       "paint_color      NaN      NaN       NaN       NaN       NaN  \n",
       "is_4wd           1.0      1.0       1.0       1.0       1.0  \n",
       "date_posted      NaN      NaN       NaN       NaN       NaN  \n",
       "days_listed      0.0     19.0      33.0      53.0     271.0  "
      ]
     },
     "execution_count": 18,
     "metadata": {},
     "output_type": "execute_result"
    }
   ],
   "source": [
    "data_clean.describe(include='all').T"
   ]
  },
  {
   "cell_type": "code",
   "execution_count": 19,
   "metadata": {},
   "outputs": [
    {
     "data": {
      "text/plain": [
       "model_year\n",
       "1908.0     2\n",
       "1929.0     1\n",
       "1936.0     1\n",
       "1948.0     1\n",
       "1949.0     1\n",
       "1954.0     1\n",
       "1955.0     1\n",
       "1958.0     2\n",
       "1960.0     3\n",
       "1961.0     1\n",
       "1962.0     3\n",
       "1963.0     3\n",
       "1964.0     7\n",
       "1965.0    10\n",
       "1966.0    23\n",
       "1967.0     7\n",
       "1968.0    16\n",
       "1969.0    10\n",
       "1970.0    10\n",
       "1971.0     7\n",
       "Name: model_year, dtype: int64"
      ]
     },
     "execution_count": 19,
     "metadata": {},
     "output_type": "execute_result"
    }
   ],
   "source": [
    "new_selection=data_clean.groupby('model_year')['model_year'].count()\n",
    "new_selection.head(20)"
   ]
  },
  {
   "cell_type": "code",
   "execution_count": 20,
   "metadata": {},
   "outputs": [
    {
     "data": {
      "text/plain": [
       "model_year\n",
       "1908.0    2\n",
       "1929.0    1\n",
       "1936.0    1\n",
       "1948.0    1\n",
       "1949.0    1\n",
       "1954.0    1\n",
       "1955.0    1\n",
       "1958.0    2\n",
       "1960.0    3\n",
       "1961.0    1\n",
       "1962.0    3\n",
       "1963.0    3\n",
       "1976.0    3\n",
       "Name: model_year, dtype: int64"
      ]
     },
     "execution_count": 20,
     "metadata": {},
     "output_type": "execute_result"
    }
   ],
   "source": [
    "model_year_outliers= new_selection[new_selection<4]\n",
    "model_year_outliers"
   ]
  }
 ],
 "metadata": {
  "kernelspec": {
   "display_name": "base",
   "language": "python",
   "name": "python3"
  },
  "language_info": {
   "codemirror_mode": {
    "name": "ipython",
    "version": 3
   },
   "file_extension": ".py",
   "mimetype": "text/x-python",
   "name": "python",
   "nbconvert_exporter": "python",
   "pygments_lexer": "ipython3",
   "version": "3.9.6"
  }
 },
 "nbformat": 4,
 "nbformat_minor": 2
}
